{
 "cells": [
  {
   "cell_type": "markdown",
   "id": "3df5662e",
   "metadata": {},
   "source": [
    "# 01. Importing Libraries"
   ]
  },
  {
   "cell_type": "code",
   "execution_count": 1,
   "id": "14ccb336",
   "metadata": {},
   "outputs": [],
   "source": [
    "# Import libraries\n",
    "\n",
    "import pandas as pd \n",
    "import numpy as np\n",
    "import os"
   ]
  },
  {
   "cell_type": "markdown",
   "id": "4138b532",
   "metadata": {},
   "source": [
    "# 02. Data Types"
   ]
  },
  {
   "cell_type": "code",
   "execution_count": 5,
   "id": "b47164e4",
   "metadata": {},
   "outputs": [],
   "source": [
    "# Python data types\n",
    "\n",
    "a = 50\n",
    "b = 75\n",
    "c = 25"
   ]
  },
  {
   "cell_type": "code",
   "execution_count": 6,
   "id": "19e22a33",
   "metadata": {},
   "outputs": [
    {
     "data": {
      "text/plain": [
       "100"
      ]
     },
     "execution_count": 6,
     "metadata": {},
     "output_type": "execute_result"
    }
   ],
   "source": [
    "a + a "
   ]
  },
  {
   "cell_type": "code",
   "execution_count": 8,
   "id": "ad480ccc",
   "metadata": {},
   "outputs": [
    {
     "data": {
      "text/plain": [
       "100"
      ]
     },
     "execution_count": 8,
     "metadata": {},
     "output_type": "execute_result"
    }
   ],
   "source": [
    "b + c "
   ]
  },
  {
   "cell_type": "code",
   "execution_count": 9,
   "id": "42a524cc",
   "metadata": {},
   "outputs": [
    {
     "data": {
      "text/plain": [
       "100"
      ]
     },
     "execution_count": 9,
     "metadata": {},
     "output_type": "execute_result"
    }
   ],
   "source": [
    "a + b - c "
   ]
  },
  {
   "cell_type": "code",
   "execution_count": 10,
   "id": "07020250",
   "metadata": {},
   "outputs": [
    {
     "data": {
      "text/plain": [
       "0.5063694267515924"
      ]
     },
     "execution_count": 10,
     "metadata": {},
     "output_type": "execute_result"
    }
   ],
   "source": [
    "a = 3.14\n",
    "b = 1.59\n",
    "\n",
    "b / a "
   ]
  },
  {
   "cell_type": "code",
   "execution_count": 12,
   "id": "5fa4fc91",
   "metadata": {},
   "outputs": [
    {
     "data": {
      "text/plain": [
       "'python'"
      ]
     },
     "execution_count": 12,
     "metadata": {},
     "output_type": "execute_result"
    }
   ],
   "source": [
    "'p' + 'y' + 't' + 'h' + 'o' + 'n'"
   ]
  },
  {
   "cell_type": "code",
   "execution_count": 14,
   "id": "d35f376e",
   "metadata": {},
   "outputs": [],
   "source": [
    "a = 'construct'\n",
    "b = 'a'\n",
    "c = 'short' \n",
    "d = 'word'\n",
    "e  = '2' \n",
    "f = 'sentences'"
   ]
  },
  {
   "cell_type": "code",
   "execution_count": 20,
   "id": "bb559ce1",
   "metadata": {},
   "outputs": [
    {
     "data": {
      "text/plain": [
       "'construct a short word.'"
      ]
     },
     "execution_count": 20,
     "metadata": {},
     "output_type": "execute_result"
    }
   ],
   "source": [
    "a + ' ' + b + ' '+ c + ' ' + d + '.' \n"
   ]
  },
  {
   "cell_type": "code",
   "execution_count": 21,
   "id": "da2894ee",
   "metadata": {},
   "outputs": [
    {
     "data": {
      "text/plain": [
       "'construct 2 short sentences.'"
      ]
     },
     "execution_count": 21,
     "metadata": {},
     "output_type": "execute_result"
    }
   ],
   "source": [
    "a + ' ' + e + ' '+ c + ' ' + f + '.' "
   ]
  },
  {
   "cell_type": "code",
   "execution_count": 22,
   "id": "c7c93275",
   "metadata": {},
   "outputs": [
    {
     "data": {
      "text/plain": [
       "'constructconstructconstructconstructconstructconstructconstructconstructconstructconstructconstructconstructconstructconstructconstructconstructconstructconstructconstructconstructconstructconstructconstructconstructconstructconstructconstructconstructconstructconstructconstructconstructconstructconstructconstructconstructconstructconstructconstructconstructconstructconstructconstructconstructconstructconstructconstructconstructconstructconstructconstructconstructconstructconstructconstructconstructconstructconstructconstructconstructconstructconstructconstructconstructconstructconstructconstructconstructconstructconstructconstructconstructconstructconstructconstructconstructconstructconstructconstructconstructconstructconstructconstructconstructconstructconstructconstructconstructconstructconstructconstructconstructconstructconstructconstructconstructconstructconstructconstructconstruct'"
      ]
     },
     "execution_count": 22,
     "metadata": {},
     "output_type": "execute_result"
    }
   ],
   "source": [
    "a * 100"
   ]
  }
 ],
 "metadata": {
  "kernelspec": {
   "display_name": "Python 3 (ipykernel)",
   "language": "python",
   "name": "python3"
  },
  "language_info": {
   "codemirror_mode": {
    "name": "ipython",
    "version": 3
   },
   "file_extension": ".py",
   "mimetype": "text/x-python",
   "name": "python",
   "nbconvert_exporter": "python",
   "pygments_lexer": "ipython3",
   "version": "3.11.3"
  }
 },
 "nbformat": 4,
 "nbformat_minor": 5
}
